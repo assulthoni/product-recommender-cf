{
 "cells": [
  {
   "cell_type": "code",
   "execution_count": 2,
   "metadata": {},
   "outputs": [
    {
     "name": "stderr",
     "output_type": "stream",
     "text": [
      "/Users/pintu/Documents/skilvul/venv/lib/python3.10/site-packages/lightfm/_lightfm_fast.py:9: UserWarning: LightFM was compiled without OpenMP support. Only a single thread will be used.\n",
      "  warnings.warn(\n"
     ]
    }
   ],
   "source": [
    "import pandas as pd\n",
    "import numpy as np\n",
    "from lightfm.data import Dataset\n",
    "from lightfm import LightFM\n",
    "from lightfm import cross_validation\n",
    "from lightfm.evaluation import auc_score, precision_at_k\n",
    "import itertools"
   ]
  },
  {
   "cell_type": "markdown",
   "metadata": {},
   "source": [
    "## Exploratory Data Analysis"
   ]
  },
  {
   "cell_type": "code",
   "execution_count": 3,
   "metadata": {},
   "outputs": [
    {
     "data": {
      "text/html": [
       "<div>\n",
       "<style scoped>\n",
       "    .dataframe tbody tr th:only-of-type {\n",
       "        vertical-align: middle;\n",
       "    }\n",
       "\n",
       "    .dataframe tbody tr th {\n",
       "        vertical-align: top;\n",
       "    }\n",
       "\n",
       "    .dataframe thead th {\n",
       "        text-align: right;\n",
       "    }\n",
       "</style>\n",
       "<table border=\"1\" class=\"dataframe\">\n",
       "  <thead>\n",
       "    <tr style=\"text-align: right;\">\n",
       "      <th></th>\n",
       "      <th>customer_id</th>\n",
       "      <th>page_views</th>\n",
       "      <th>time_spent</th>\n",
       "    </tr>\n",
       "  </thead>\n",
       "  <tbody>\n",
       "    <tr>\n",
       "      <th>0</th>\n",
       "      <td>1</td>\n",
       "      <td>25</td>\n",
       "      <td>120</td>\n",
       "    </tr>\n",
       "    <tr>\n",
       "      <th>1</th>\n",
       "      <td>2</td>\n",
       "      <td>20</td>\n",
       "      <td>90</td>\n",
       "    </tr>\n",
       "    <tr>\n",
       "      <th>2</th>\n",
       "      <td>3</td>\n",
       "      <td>30</td>\n",
       "      <td>150</td>\n",
       "    </tr>\n",
       "    <tr>\n",
       "      <th>3</th>\n",
       "      <td>4</td>\n",
       "      <td>15</td>\n",
       "      <td>80</td>\n",
       "    </tr>\n",
       "    <tr>\n",
       "      <th>4</th>\n",
       "      <td>5</td>\n",
       "      <td>22</td>\n",
       "      <td>110</td>\n",
       "    </tr>\n",
       "  </tbody>\n",
       "</table>\n",
       "</div>"
      ],
      "text/plain": [
       "   customer_id  page_views  time_spent\n",
       "0            1          25         120\n",
       "1            2          20          90\n",
       "2            3          30         150\n",
       "3            4          15          80\n",
       "4            5          22         110"
      ]
     },
     "metadata": {},
     "output_type": "display_data"
    },
    {
     "name": "stdout",
     "output_type": "stream",
     "text": [
      "(20, 3)\n"
     ]
    }
   ],
   "source": [
    "df_interactions = pd.read_csv('../dataset/new/customer_interactions.csv')\n",
    "display(df_interactions.head())\n",
    "print(df_interactions.shape)"
   ]
  },
  {
   "cell_type": "code",
   "execution_count": 4,
   "metadata": {},
   "outputs": [
    {
     "data": {
      "text/html": [
       "<div>\n",
       "<style scoped>\n",
       "    .dataframe tbody tr th:only-of-type {\n",
       "        vertical-align: middle;\n",
       "    }\n",
       "\n",
       "    .dataframe tbody tr th {\n",
       "        vertical-align: top;\n",
       "    }\n",
       "\n",
       "    .dataframe thead th {\n",
       "        text-align: right;\n",
       "    }\n",
       "</style>\n",
       "<table border=\"1\" class=\"dataframe\">\n",
       "  <thead>\n",
       "    <tr style=\"text-align: right;\">\n",
       "      <th></th>\n",
       "      <th>customer_id</th>\n",
       "      <th>product_id</th>\n",
       "      <th>purchase_date</th>\n",
       "    </tr>\n",
       "  </thead>\n",
       "  <tbody>\n",
       "    <tr>\n",
       "      <th>0</th>\n",
       "      <td>1</td>\n",
       "      <td>101</td>\n",
       "      <td>2023-01-01</td>\n",
       "    </tr>\n",
       "    <tr>\n",
       "      <th>1</th>\n",
       "      <td>1</td>\n",
       "      <td>105</td>\n",
       "      <td>2023-01-05</td>\n",
       "    </tr>\n",
       "    <tr>\n",
       "      <th>2</th>\n",
       "      <td>2</td>\n",
       "      <td>102</td>\n",
       "      <td>2023-01-02</td>\n",
       "    </tr>\n",
       "    <tr>\n",
       "      <th>3</th>\n",
       "      <td>3</td>\n",
       "      <td>103</td>\n",
       "      <td>2023-01-03</td>\n",
       "    </tr>\n",
       "    <tr>\n",
       "      <th>4</th>\n",
       "      <td>4</td>\n",
       "      <td>104</td>\n",
       "      <td>2023-01-04</td>\n",
       "    </tr>\n",
       "  </tbody>\n",
       "</table>\n",
       "</div>"
      ],
      "text/plain": [
       "   customer_id  product_id purchase_date\n",
       "0            1         101    2023-01-01\n",
       "1            1         105    2023-01-05\n",
       "2            2         102    2023-01-02\n",
       "3            3         103    2023-01-03\n",
       "4            4         104    2023-01-04"
      ]
     },
     "metadata": {},
     "output_type": "display_data"
    },
    {
     "name": "stdout",
     "output_type": "stream",
     "text": [
      "(100, 3)\n"
     ]
    }
   ],
   "source": [
    "df_purchases = pd.read_csv('../dataset/new/purchase_history.csv')\n",
    "display(df_purchases.head())\n",
    "print(df_purchases.shape)"
   ]
  },
  {
   "cell_type": "code",
   "execution_count": 5,
   "metadata": {},
   "outputs": [
    {
     "data": {
      "text/html": [
       "<div>\n",
       "<style scoped>\n",
       "    .dataframe tbody tr th:only-of-type {\n",
       "        vertical-align: middle;\n",
       "    }\n",
       "\n",
       "    .dataframe tbody tr th {\n",
       "        vertical-align: top;\n",
       "    }\n",
       "\n",
       "    .dataframe thead th {\n",
       "        text-align: right;\n",
       "    }\n",
       "</style>\n",
       "<table border=\"1\" class=\"dataframe\">\n",
       "  <thead>\n",
       "    <tr style=\"text-align: right;\">\n",
       "      <th></th>\n",
       "      <th>product_id</th>\n",
       "      <th>category</th>\n",
       "      <th>price</th>\n",
       "      <th>ratings</th>\n",
       "    </tr>\n",
       "  </thead>\n",
       "  <tbody>\n",
       "    <tr>\n",
       "      <th>0</th>\n",
       "      <td>101</td>\n",
       "      <td>Electronics</td>\n",
       "      <td>500</td>\n",
       "      <td>4.5</td>\n",
       "    </tr>\n",
       "    <tr>\n",
       "      <th>1</th>\n",
       "      <td>102</td>\n",
       "      <td>Clothing</td>\n",
       "      <td>50</td>\n",
       "      <td>3.8</td>\n",
       "    </tr>\n",
       "    <tr>\n",
       "      <th>2</th>\n",
       "      <td>103</td>\n",
       "      <td>Home &amp; Kitchen</td>\n",
       "      <td>200</td>\n",
       "      <td>4.2</td>\n",
       "    </tr>\n",
       "    <tr>\n",
       "      <th>3</th>\n",
       "      <td>104</td>\n",
       "      <td>Beauty</td>\n",
       "      <td>30</td>\n",
       "      <td>4.0</td>\n",
       "    </tr>\n",
       "    <tr>\n",
       "      <th>4</th>\n",
       "      <td>105</td>\n",
       "      <td>Electronics</td>\n",
       "      <td>800</td>\n",
       "      <td>4.8</td>\n",
       "    </tr>\n",
       "  </tbody>\n",
       "</table>\n",
       "</div>"
      ],
      "text/plain": [
       "   product_id        category  price  ratings\n",
       "0         101     Electronics    500      4.5\n",
       "1         102        Clothing     50      3.8\n",
       "2         103  Home & Kitchen    200      4.2\n",
       "3         104          Beauty     30      4.0\n",
       "4         105     Electronics    800      4.8"
      ]
     },
     "metadata": {},
     "output_type": "display_data"
    },
    {
     "name": "stdout",
     "output_type": "stream",
     "text": [
      "(500, 4)\n"
     ]
    }
   ],
   "source": [
    "df_products = pd.read_csv('../dataset/new/product_details.csv')\n",
    "display(df_products.head())\n",
    "print(df_products.shape)"
   ]
  },
  {
   "cell_type": "code",
   "execution_count": 6,
   "metadata": {},
   "outputs": [
    {
     "data": {
      "text/html": [
       "<div>\n",
       "<style scoped>\n",
       "    .dataframe tbody tr th:only-of-type {\n",
       "        vertical-align: middle;\n",
       "    }\n",
       "\n",
       "    .dataframe tbody tr th {\n",
       "        vertical-align: top;\n",
       "    }\n",
       "\n",
       "    .dataframe thead th {\n",
       "        text-align: right;\n",
       "    }\n",
       "</style>\n",
       "<table border=\"1\" class=\"dataframe\">\n",
       "  <thead>\n",
       "    <tr style=\"text-align: right;\">\n",
       "      <th></th>\n",
       "      <th>customer_id</th>\n",
       "      <th>page_views</th>\n",
       "      <th>time_spent</th>\n",
       "    </tr>\n",
       "  </thead>\n",
       "  <tbody>\n",
       "    <tr>\n",
       "      <th>count</th>\n",
       "      <td>20.00000</td>\n",
       "      <td>20.000000</td>\n",
       "      <td>20.000000</td>\n",
       "    </tr>\n",
       "    <tr>\n",
       "      <th>mean</th>\n",
       "      <td>10.50000</td>\n",
       "      <td>30.350000</td>\n",
       "      <td>250.250000</td>\n",
       "    </tr>\n",
       "    <tr>\n",
       "      <th>std</th>\n",
       "      <td>5.91608</td>\n",
       "      <td>10.312358</td>\n",
       "      <td>115.514353</td>\n",
       "    </tr>\n",
       "    <tr>\n",
       "      <th>min</th>\n",
       "      <td>1.00000</td>\n",
       "      <td>11.000000</td>\n",
       "      <td>80.000000</td>\n",
       "    </tr>\n",
       "    <tr>\n",
       "      <th>25%</th>\n",
       "      <td>5.75000</td>\n",
       "      <td>24.250000</td>\n",
       "      <td>117.500000</td>\n",
       "    </tr>\n",
       "    <tr>\n",
       "      <th>50%</th>\n",
       "      <td>10.50000</td>\n",
       "      <td>32.000000</td>\n",
       "      <td>288.000000</td>\n",
       "    </tr>\n",
       "    <tr>\n",
       "      <th>75%</th>\n",
       "      <td>15.25000</td>\n",
       "      <td>36.000000</td>\n",
       "      <td>324.000000</td>\n",
       "    </tr>\n",
       "    <tr>\n",
       "      <th>max</th>\n",
       "      <td>20.00000</td>\n",
       "      <td>49.000000</td>\n",
       "      <td>441.000000</td>\n",
       "    </tr>\n",
       "  </tbody>\n",
       "</table>\n",
       "</div>"
      ],
      "text/plain": [
       "       customer_id  page_views  time_spent\n",
       "count     20.00000   20.000000   20.000000\n",
       "mean      10.50000   30.350000  250.250000\n",
       "std        5.91608   10.312358  115.514353\n",
       "min        1.00000   11.000000   80.000000\n",
       "25%        5.75000   24.250000  117.500000\n",
       "50%       10.50000   32.000000  288.000000\n",
       "75%       15.25000   36.000000  324.000000\n",
       "max       20.00000   49.000000  441.000000"
      ]
     },
     "execution_count": 6,
     "metadata": {},
     "output_type": "execute_result"
    }
   ],
   "source": [
    "# analyzing interactions\n",
    "df_interactions.describe()"
   ]
  },
  {
   "cell_type": "code",
   "execution_count": 7,
   "metadata": {},
   "outputs": [
    {
     "data": {
      "text/plain": [
       "<Axes: >"
      ]
     },
     "execution_count": 7,
     "metadata": {},
     "output_type": "execute_result"
    },
    {
     "data": {
      "image/png": "[encoded data removed]",
      "text/plain": [
       "<Figure size 640x480 with 1 Axes>"
      ]
     },
     "metadata": {},
     "output_type": "display_data"
    }
   ],
   "source": [
    "df_interactions.describe()[['page_views', 'time_spent']].plot(kind='box')"
   ]
  },
  {
   "cell_type": "code",
   "execution_count": 8,
   "metadata": {},
   "outputs": [
    {
     "data": {
      "text/plain": [
       "<Axes: ylabel='Frequency'>"
      ]
     },
     "metadata": {},
     "output_type": "display_data"
    },
    {
     "data": {
      "image/png": "[encoded data removed]",
      "text/plain": [
       "<Figure size 640x480 with 1 Axes>"
      ]
     },
     "metadata": {},
     "output_type": "display_data"
    }
   ],
   "source": [
    "display(df_interactions[['page_views']].plot.hist())"
   ]
  },
  {
   "cell_type": "code",
   "execution_count": 9,
   "metadata": {},
   "outputs": [
    {
     "data": {
      "text/plain": [
       "<Axes: ylabel='Frequency'>"
      ]
     },
     "metadata": {},
     "output_type": "display_data"
    },
    {
     "data": {
      "image/png": "[encoded data removed]",
      "text/plain": [
       "<Figure size 640x480 with 1 Axes>"
      ]
     },
     "metadata": {},
     "output_type": "display_data"
    }
   ],
   "source": [
    "display(df_interactions['time_spent'].plot(kind='hist'))"
   ]
  },
  {
   "cell_type": "code",
   "execution_count": 10,
   "metadata": {},
   "outputs": [
    {
     "data": {
      "text/html": [
       "<div>\n",
       "<style scoped>\n",
       "    .dataframe tbody tr th:only-of-type {\n",
       "        vertical-align: middle;\n",
       "    }\n",
       "\n",
       "    .dataframe tbody tr th {\n",
       "        vertical-align: top;\n",
       "    }\n",
       "\n",
       "    .dataframe thead th {\n",
       "        text-align: right;\n",
       "    }\n",
       "</style>\n",
       "<table border=\"1\" class=\"dataframe\">\n",
       "  <thead>\n",
       "    <tr style=\"text-align: right;\">\n",
       "      <th></th>\n",
       "      <th>page_views</th>\n",
       "      <th>time_spent</th>\n",
       "    </tr>\n",
       "  </thead>\n",
       "  <tbody>\n",
       "    <tr>\n",
       "      <th>page_views</th>\n",
       "      <td>1.000000</td>\n",
       "      <td>0.941059</td>\n",
       "    </tr>\n",
       "    <tr>\n",
       "      <th>time_spent</th>\n",
       "      <td>0.941059</td>\n",
       "      <td>1.000000</td>\n",
       "    </tr>\n",
       "  </tbody>\n",
       "</table>\n",
       "</div>"
      ],
      "text/plain": [
       "            page_views  time_spent\n",
       "page_views    1.000000    0.941059\n",
       "time_spent    0.941059    1.000000"
      ]
     },
     "metadata": {},
     "output_type": "display_data"
    }
   ],
   "source": [
    "display(df_interactions[['page_views', 'time_spent']].corr())"
   ]
  },
  {
   "cell_type": "code",
   "execution_count": 11,
   "metadata": {},
   "outputs": [
    {
     "data": {
      "text/html": [
       "<div>\n",
       "<style scoped>\n",
       "    .dataframe tbody tr th:only-of-type {\n",
       "        vertical-align: middle;\n",
       "    }\n",
       "\n",
       "    .dataframe tbody tr th {\n",
       "        vertical-align: top;\n",
       "    }\n",
       "\n",
       "    .dataframe thead th {\n",
       "        text-align: right;\n",
       "    }\n",
       "</style>\n",
       "<table border=\"1\" class=\"dataframe\">\n",
       "  <thead>\n",
       "    <tr style=\"text-align: right;\">\n",
       "      <th></th>\n",
       "      <th>product_id</th>\n",
       "      <th>price</th>\n",
       "      <th>ratings</th>\n",
       "    </tr>\n",
       "  </thead>\n",
       "  <tbody>\n",
       "    <tr>\n",
       "      <th>count</th>\n",
       "      <td>500.000000</td>\n",
       "      <td>500.000000</td>\n",
       "      <td>500.000000</td>\n",
       "    </tr>\n",
       "    <tr>\n",
       "      <th>mean</th>\n",
       "      <td>350.500000</td>\n",
       "      <td>733.700000</td>\n",
       "      <td>3.564600</td>\n",
       "    </tr>\n",
       "    <tr>\n",
       "      <th>std</th>\n",
       "      <td>144.481833</td>\n",
       "      <td>431.905539</td>\n",
       "      <td>0.856829</td>\n",
       "    </tr>\n",
       "    <tr>\n",
       "      <th>min</th>\n",
       "      <td>101.000000</td>\n",
       "      <td>20.000000</td>\n",
       "      <td>2.000000</td>\n",
       "    </tr>\n",
       "    <tr>\n",
       "      <th>25%</th>\n",
       "      <td>225.750000</td>\n",
       "      <td>347.500000</td>\n",
       "      <td>2.800000</td>\n",
       "    </tr>\n",
       "    <tr>\n",
       "      <th>50%</th>\n",
       "      <td>350.500000</td>\n",
       "      <td>725.000000</td>\n",
       "      <td>3.600000</td>\n",
       "    </tr>\n",
       "    <tr>\n",
       "      <th>75%</th>\n",
       "      <td>475.250000</td>\n",
       "      <td>1102.500000</td>\n",
       "      <td>4.300000</td>\n",
       "    </tr>\n",
       "    <tr>\n",
       "      <th>max</th>\n",
       "      <td>600.000000</td>\n",
       "      <td>1490.000000</td>\n",
       "      <td>5.000000</td>\n",
       "    </tr>\n",
       "  </tbody>\n",
       "</table>\n",
       "</div>"
      ],
      "text/plain": [
       "       product_id        price     ratings\n",
       "count  500.000000   500.000000  500.000000\n",
       "mean   350.500000   733.700000    3.564600\n",
       "std    144.481833   431.905539    0.856829\n",
       "min    101.000000    20.000000    2.000000\n",
       "25%    225.750000   347.500000    2.800000\n",
       "50%    350.500000   725.000000    3.600000\n",
       "75%    475.250000  1102.500000    4.300000\n",
       "max    600.000000  1490.000000    5.000000"
      ]
     },
     "execution_count": 11,
     "metadata": {},
     "output_type": "execute_result"
    }
   ],
   "source": [
    "df_products.describe()"
   ]
  },
  {
   "cell_type": "code",
   "execution_count": 12,
   "metadata": {},
   "outputs": [
    {
     "data": {
      "text/plain": [
       "category\n",
       "Beauty            137\n",
       "Home & Kitchen    125\n",
       "Clothing          121\n",
       "Electronics       117\n",
       "Name: count, dtype: int64"
      ]
     },
     "execution_count": 12,
     "metadata": {},
     "output_type": "execute_result"
    }
   ],
   "source": [
    "df_products.category.value_counts()"
   ]
  },
  {
   "cell_type": "code",
   "execution_count": 13,
   "metadata": {},
   "outputs": [
    {
     "data": {
      "text/html": [
       "<div>\n",
       "<style scoped>\n",
       "    .dataframe tbody tr th:only-of-type {\n",
       "        vertical-align: middle;\n",
       "    }\n",
       "\n",
       "    .dataframe tbody tr th {\n",
       "        vertical-align: top;\n",
       "    }\n",
       "\n",
       "    .dataframe thead th {\n",
       "        text-align: right;\n",
       "    }\n",
       "</style>\n",
       "<table border=\"1\" class=\"dataframe\">\n",
       "  <thead>\n",
       "    <tr style=\"text-align: right;\">\n",
       "      <th></th>\n",
       "      <th>price</th>\n",
       "      <th>ratings</th>\n",
       "    </tr>\n",
       "  </thead>\n",
       "  <tbody>\n",
       "    <tr>\n",
       "      <th>price</th>\n",
       "      <td>1.000000</td>\n",
       "      <td>-0.001958</td>\n",
       "    </tr>\n",
       "    <tr>\n",
       "      <th>ratings</th>\n",
       "      <td>-0.001958</td>\n",
       "      <td>1.000000</td>\n",
       "    </tr>\n",
       "  </tbody>\n",
       "</table>\n",
       "</div>"
      ],
      "text/plain": [
       "            price   ratings\n",
       "price    1.000000 -0.001958\n",
       "ratings -0.001958  1.000000"
      ]
     },
     "execution_count": 13,
     "metadata": {},
     "output_type": "execute_result"
    }
   ],
   "source": [
    "df_products[['price', 'ratings']].corr()"
   ]
  },
  {
   "cell_type": "code",
   "execution_count": 14,
   "metadata": {},
   "outputs": [
    {
     "data": {
      "text/html": [
       "<div>\n",
       "<style scoped>\n",
       "    .dataframe tbody tr th:only-of-type {\n",
       "        vertical-align: middle;\n",
       "    }\n",
       "\n",
       "    .dataframe tbody tr th {\n",
       "        vertical-align: top;\n",
       "    }\n",
       "\n",
       "    .dataframe thead tr th {\n",
       "        text-align: left;\n",
       "    }\n",
       "\n",
       "    .dataframe thead tr:last-of-type th {\n",
       "        text-align: right;\n",
       "    }\n",
       "</style>\n",
       "<table border=\"1\" class=\"dataframe\">\n",
       "  <thead>\n",
       "    <tr>\n",
       "      <th></th>\n",
       "      <th colspan=\"8\" halign=\"left\">ratings</th>\n",
       "      <th colspan=\"8\" halign=\"left\">price</th>\n",
       "    </tr>\n",
       "    <tr>\n",
       "      <th></th>\n",
       "      <th>count</th>\n",
       "      <th>mean</th>\n",
       "      <th>std</th>\n",
       "      <th>min</th>\n",
       "      <th>25%</th>\n",
       "      <th>50%</th>\n",
       "      <th>75%</th>\n",
       "      <th>max</th>\n",
       "      <th>count</th>\n",
       "      <th>mean</th>\n",
       "      <th>std</th>\n",
       "      <th>min</th>\n",
       "      <th>25%</th>\n",
       "      <th>50%</th>\n",
       "      <th>75%</th>\n",
       "      <th>max</th>\n",
       "    </tr>\n",
       "    <tr>\n",
       "      <th>category</th>\n",
       "      <th></th>\n",
       "      <th></th>\n",
       "      <th></th>\n",
       "      <th></th>\n",
       "      <th></th>\n",
       "      <th></th>\n",
       "      <th></th>\n",
       "      <th></th>\n",
       "      <th></th>\n",
       "      <th></th>\n",
       "      <th></th>\n",
       "      <th></th>\n",
       "      <th></th>\n",
       "      <th></th>\n",
       "      <th></th>\n",
       "      <th></th>\n",
       "    </tr>\n",
       "  </thead>\n",
       "  <tbody>\n",
       "    <tr>\n",
       "      <th>Beauty</th>\n",
       "      <td>137.0</td>\n",
       "      <td>3.528467</td>\n",
       "      <td>0.861168</td>\n",
       "      <td>2.0</td>\n",
       "      <td>2.8</td>\n",
       "      <td>3.5</td>\n",
       "      <td>4.3</td>\n",
       "      <td>5.0</td>\n",
       "      <td>137.0</td>\n",
       "      <td>707.007299</td>\n",
       "      <td>428.192791</td>\n",
       "      <td>30.0</td>\n",
       "      <td>340.0</td>\n",
       "      <td>690.0</td>\n",
       "      <td>1050.0</td>\n",
       "      <td>1460.0</td>\n",
       "    </tr>\n",
       "    <tr>\n",
       "      <th>Clothing</th>\n",
       "      <td>121.0</td>\n",
       "      <td>3.675207</td>\n",
       "      <td>0.904644</td>\n",
       "      <td>2.0</td>\n",
       "      <td>2.9</td>\n",
       "      <td>3.8</td>\n",
       "      <td>4.4</td>\n",
       "      <td>5.0</td>\n",
       "      <td>121.0</td>\n",
       "      <td>732.314050</td>\n",
       "      <td>443.179347</td>\n",
       "      <td>20.0</td>\n",
       "      <td>340.0</td>\n",
       "      <td>730.0</td>\n",
       "      <td>1090.0</td>\n",
       "      <td>1490.0</td>\n",
       "    </tr>\n",
       "    <tr>\n",
       "      <th>Electronics</th>\n",
       "      <td>117.0</td>\n",
       "      <td>3.515385</td>\n",
       "      <td>0.882943</td>\n",
       "      <td>2.0</td>\n",
       "      <td>2.8</td>\n",
       "      <td>3.5</td>\n",
       "      <td>4.3</td>\n",
       "      <td>5.0</td>\n",
       "      <td>117.0</td>\n",
       "      <td>777.350427</td>\n",
       "      <td>421.101579</td>\n",
       "      <td>20.0</td>\n",
       "      <td>490.0</td>\n",
       "      <td>800.0</td>\n",
       "      <td>1150.0</td>\n",
       "      <td>1490.0</td>\n",
       "    </tr>\n",
       "    <tr>\n",
       "      <th>Home &amp; Kitchen</th>\n",
       "      <td>125.0</td>\n",
       "      <td>3.543200</td>\n",
       "      <td>0.776919</td>\n",
       "      <td>2.0</td>\n",
       "      <td>2.9</td>\n",
       "      <td>3.5</td>\n",
       "      <td>4.1</td>\n",
       "      <td>5.0</td>\n",
       "      <td>125.0</td>\n",
       "      <td>723.440000</td>\n",
       "      <td>436.965533</td>\n",
       "      <td>20.0</td>\n",
       "      <td>340.0</td>\n",
       "      <td>680.0</td>\n",
       "      <td>1140.0</td>\n",
       "      <td>1490.0</td>\n",
       "    </tr>\n",
       "  </tbody>\n",
       "</table>\n",
       "</div>"
      ],
      "text/plain": [
       "               ratings                                               price  \\\n",
       "                 count      mean       std  min  25%  50%  75%  max  count   \n",
       "category                                                                     \n",
       "Beauty           137.0  3.528467  0.861168  2.0  2.8  3.5  4.3  5.0  137.0   \n",
       "Clothing         121.0  3.675207  0.904644  2.0  2.9  3.8  4.4  5.0  121.0   \n",
       "Electronics      117.0  3.515385  0.882943  2.0  2.8  3.5  4.3  5.0  117.0   \n",
       "Home & Kitchen   125.0  3.543200  0.776919  2.0  2.9  3.5  4.1  5.0  125.0   \n",
       "\n",
       "                                                                            \n",
       "                      mean         std   min    25%    50%     75%     max  \n",
       "category                                                                    \n",
       "Beauty          707.007299  428.192791  30.0  340.0  690.0  1050.0  1460.0  \n",
       "Clothing        732.314050  443.179347  20.0  340.0  730.0  1090.0  1490.0  \n",
       "Electronics     777.350427  421.101579  20.0  490.0  800.0  1150.0  1490.0  \n",
       "Home & Kitchen  723.440000  436.965533  20.0  340.0  680.0  1140.0  1490.0  "
      ]
     },
     "execution_count": 14,
     "metadata": {},
     "output_type": "execute_result"
    }
   ],
   "source": [
    "df_products[['category', 'ratings', 'price']].groupby('category').describe()"
   ]
  },
  {
   "cell_type": "code",
   "execution_count": 15,
   "metadata": {},
   "outputs": [
    {
     "data": {
      "text/plain": [
       "<Axes: xlabel='category'>"
      ]
     },
     "execution_count": 15,
     "metadata": {},
     "output_type": "execute_result"
    },
    {
     "data": {
      "image/png": "[encoded data removed]",
      "text/plain": [
       "<Figure size 640x480 with 1 Axes>"
      ]
     },
     "metadata": {},
     "output_type": "display_data"
    }
   ],
   "source": [
    "df_products.groupby('category')[['ratings']].mean().plot(kind='bar')"
   ]
  },
  {
   "cell_type": "code",
   "execution_count": 16,
   "metadata": {},
   "outputs": [
    {
     "data": {
      "text/html": [
       "<div>\n",
       "<style scoped>\n",
       "    .dataframe tbody tr th:only-of-type {\n",
       "        vertical-align: middle;\n",
       "    }\n",
       "\n",
       "    .dataframe tbody tr th {\n",
       "        vertical-align: top;\n",
       "    }\n",
       "\n",
       "    .dataframe thead th {\n",
       "        text-align: right;\n",
       "    }\n",
       "</style>\n",
       "<table border=\"1\" class=\"dataframe\">\n",
       "  <thead>\n",
       "    <tr style=\"text-align: right;\">\n",
       "      <th></th>\n",
       "      <th>customer_id</th>\n",
       "      <th>product_id</th>\n",
       "    </tr>\n",
       "  </thead>\n",
       "  <tbody>\n",
       "    <tr>\n",
       "      <th>count</th>\n",
       "      <td>100.000000</td>\n",
       "      <td>100.000000</td>\n",
       "    </tr>\n",
       "    <tr>\n",
       "      <th>mean</th>\n",
       "      <td>9.790000</td>\n",
       "      <td>331.870000</td>\n",
       "    </tr>\n",
       "    <tr>\n",
       "      <th>std</th>\n",
       "      <td>5.815853</td>\n",
       "      <td>159.881879</td>\n",
       "    </tr>\n",
       "    <tr>\n",
       "      <th>min</th>\n",
       "      <td>1.000000</td>\n",
       "      <td>101.000000</td>\n",
       "    </tr>\n",
       "    <tr>\n",
       "      <th>25%</th>\n",
       "      <td>5.000000</td>\n",
       "      <td>181.750000</td>\n",
       "    </tr>\n",
       "    <tr>\n",
       "      <th>50%</th>\n",
       "      <td>9.000000</td>\n",
       "      <td>328.500000</td>\n",
       "    </tr>\n",
       "    <tr>\n",
       "      <th>75%</th>\n",
       "      <td>15.000000</td>\n",
       "      <td>475.500000</td>\n",
       "    </tr>\n",
       "    <tr>\n",
       "      <th>max</th>\n",
       "      <td>20.000000</td>\n",
       "      <td>591.000000</td>\n",
       "    </tr>\n",
       "  </tbody>\n",
       "</table>\n",
       "</div>"
      ],
      "text/plain": [
       "       customer_id  product_id\n",
       "count   100.000000  100.000000\n",
       "mean      9.790000  331.870000\n",
       "std       5.815853  159.881879\n",
       "min       1.000000  101.000000\n",
       "25%       5.000000  181.750000\n",
       "50%       9.000000  328.500000\n",
       "75%      15.000000  475.500000\n",
       "max      20.000000  591.000000"
      ]
     },
     "metadata": {},
     "output_type": "display_data"
    },
    {
     "data": {
      "text/html": [
       "<div>\n",
       "<style scoped>\n",
       "    .dataframe tbody tr th:only-of-type {\n",
       "        vertical-align: middle;\n",
       "    }\n",
       "\n",
       "    .dataframe tbody tr th {\n",
       "        vertical-align: top;\n",
       "    }\n",
       "\n",
       "    .dataframe thead th {\n",
       "        text-align: right;\n",
       "    }\n",
       "</style>\n",
       "<table border=\"1\" class=\"dataframe\">\n",
       "  <thead>\n",
       "    <tr style=\"text-align: right;\">\n",
       "      <th></th>\n",
       "      <th>purchase_date</th>\n",
       "    </tr>\n",
       "  </thead>\n",
       "  <tbody>\n",
       "    <tr>\n",
       "      <th>count</th>\n",
       "      <td>100</td>\n",
       "    </tr>\n",
       "    <tr>\n",
       "      <th>unique</th>\n",
       "      <td>67</td>\n",
       "    </tr>\n",
       "    <tr>\n",
       "      <th>top</th>\n",
       "      <td>2023-01-18 00:00:00</td>\n",
       "    </tr>\n",
       "    <tr>\n",
       "      <th>freq</th>\n",
       "      <td>5</td>\n",
       "    </tr>\n",
       "  </tbody>\n",
       "</table>\n",
       "</div>"
      ],
      "text/plain": [
       "              purchase_date\n",
       "count                   100\n",
       "unique                   67\n",
       "top     2023-01-18 00:00:00\n",
       "freq                      5"
      ]
     },
     "metadata": {},
     "output_type": "display_data"
    }
   ],
   "source": [
    "display(df_purchases.describe())\n",
    "display(df_purchases.describe(include=['O']))"
   ]
  },
  {
   "cell_type": "code",
   "execution_count": 17,
   "metadata": {},
   "outputs": [
    {
     "data": {
      "text/html": [
       "<div>\n",
       "<style scoped>\n",
       "    .dataframe tbody tr th:only-of-type {\n",
       "        vertical-align: middle;\n",
       "    }\n",
       "\n",
       "    .dataframe tbody tr th {\n",
       "        vertical-align: top;\n",
       "    }\n",
       "\n",
       "    .dataframe thead th {\n",
       "        text-align: right;\n",
       "    }\n",
       "</style>\n",
       "<table border=\"1\" class=\"dataframe\">\n",
       "  <thead>\n",
       "    <tr style=\"text-align: right;\">\n",
       "      <th></th>\n",
       "      <th>product_id</th>\n",
       "      <th>purchase_date</th>\n",
       "    </tr>\n",
       "    <tr>\n",
       "      <th>customer_id</th>\n",
       "      <th></th>\n",
       "      <th></th>\n",
       "    </tr>\n",
       "  </thead>\n",
       "  <tbody>\n",
       "    <tr>\n",
       "      <th>9</th>\n",
       "      <td>8</td>\n",
       "      <td>8</td>\n",
       "    </tr>\n",
       "    <tr>\n",
       "      <th>2</th>\n",
       "      <td>8</td>\n",
       "      <td>8</td>\n",
       "    </tr>\n",
       "    <tr>\n",
       "      <th>3</th>\n",
       "      <td>7</td>\n",
       "      <td>7</td>\n",
       "    </tr>\n",
       "    <tr>\n",
       "      <th>5</th>\n",
       "      <td>7</td>\n",
       "      <td>7</td>\n",
       "    </tr>\n",
       "    <tr>\n",
       "      <th>18</th>\n",
       "      <td>7</td>\n",
       "      <td>7</td>\n",
       "    </tr>\n",
       "    <tr>\n",
       "      <th>10</th>\n",
       "      <td>7</td>\n",
       "      <td>7</td>\n",
       "    </tr>\n",
       "    <tr>\n",
       "      <th>12</th>\n",
       "      <td>6</td>\n",
       "      <td>6</td>\n",
       "    </tr>\n",
       "    <tr>\n",
       "      <th>1</th>\n",
       "      <td>5</td>\n",
       "      <td>5</td>\n",
       "    </tr>\n",
       "    <tr>\n",
       "      <th>15</th>\n",
       "      <td>5</td>\n",
       "      <td>5</td>\n",
       "    </tr>\n",
       "    <tr>\n",
       "      <th>7</th>\n",
       "      <td>5</td>\n",
       "      <td>5</td>\n",
       "    </tr>\n",
       "    <tr>\n",
       "      <th>16</th>\n",
       "      <td>5</td>\n",
       "      <td>5</td>\n",
       "    </tr>\n",
       "    <tr>\n",
       "      <th>19</th>\n",
       "      <td>4</td>\n",
       "      <td>4</td>\n",
       "    </tr>\n",
       "    <tr>\n",
       "      <th>20</th>\n",
       "      <td>4</td>\n",
       "      <td>4</td>\n",
       "    </tr>\n",
       "    <tr>\n",
       "      <th>8</th>\n",
       "      <td>4</td>\n",
       "      <td>4</td>\n",
       "    </tr>\n",
       "    <tr>\n",
       "      <th>6</th>\n",
       "      <td>4</td>\n",
       "      <td>4</td>\n",
       "    </tr>\n",
       "    <tr>\n",
       "      <th>14</th>\n",
       "      <td>3</td>\n",
       "      <td>3</td>\n",
       "    </tr>\n",
       "    <tr>\n",
       "      <th>13</th>\n",
       "      <td>3</td>\n",
       "      <td>3</td>\n",
       "    </tr>\n",
       "    <tr>\n",
       "      <th>4</th>\n",
       "      <td>3</td>\n",
       "      <td>3</td>\n",
       "    </tr>\n",
       "    <tr>\n",
       "      <th>11</th>\n",
       "      <td>3</td>\n",
       "      <td>3</td>\n",
       "    </tr>\n",
       "    <tr>\n",
       "      <th>17</th>\n",
       "      <td>2</td>\n",
       "      <td>2</td>\n",
       "    </tr>\n",
       "  </tbody>\n",
       "</table>\n",
       "</div>"
      ],
      "text/plain": [
       "             product_id  purchase_date\n",
       "customer_id                           \n",
       "9                     8              8\n",
       "2                     8              8\n",
       "3                     7              7\n",
       "5                     7              7\n",
       "18                    7              7\n",
       "10                    7              7\n",
       "12                    6              6\n",
       "1                     5              5\n",
       "15                    5              5\n",
       "7                     5              5\n",
       "16                    5              5\n",
       "19                    4              4\n",
       "20                    4              4\n",
       "8                     4              4\n",
       "6                     4              4\n",
       "14                    3              3\n",
       "13                    3              3\n",
       "4                     3              3\n",
       "11                    3              3\n",
       "17                    2              2"
      ]
     },
     "execution_count": 17,
     "metadata": {},
     "output_type": "execute_result"
    }
   ],
   "source": [
    "df_purchases.groupby('customer_id').count().sort_values('purchase_date', ascending=False)"
   ]
  },
  {
   "cell_type": "code",
   "execution_count": 18,
   "metadata": {},
   "outputs": [
    {
     "data": {
      "text/plain": [
       "<Axes: xlabel='purchase_date'>"
      ]
     },
     "execution_count": 18,
     "metadata": {},
     "output_type": "execute_result"
    },
    {
     "data": {
      "image/png": "[encoded data removed]",
      "text/plain": [
       "<Figure size 640x480 with 1 Axes>"
      ]
     },
     "metadata": {},
     "output_type": "display_data"
    }
   ],
   "source": [
    "df_purchases['purchase_date'] = pd.to_datetime(df_purchases['purchase_date'].str.replace(' 00:00:00', ''))\n",
    "df_purchases.groupby('purchase_date')['product_id'].count().plot(kind='line')"
   ]
  },
  {
   "cell_type": "code",
   "execution_count": 19,
   "metadata": {},
   "outputs": [
    {
     "name": "stdout",
     "output_type": "stream",
     "text": [
      "14.325\n"
     ]
    },
    {
     "data": {
      "text/plain": [
       "<Axes: ylabel='Frequency'>"
      ]
     },
     "execution_count": 19,
     "metadata": {},
     "output_type": "execute_result"
    },
    {
     "data": {
      "image/png": "[encoded data removed]",
      "text/plain": [
       "<Figure size 640x480 with 1 Axes>"
      ]
     },
     "metadata": {},
     "output_type": "display_data"
    }
   ],
   "source": [
    "df_eda_recency = df_purchases.sort_values(['customer_id', 'purchase_date']).groupby('customer_id')\n",
    "time_since_last_purchase = df_eda_recency['purchase_date'].diff().dt.days\n",
    "print(np.mean(time_since_last_purchase))\n",
    "time_since_last_purchase.plot(kind='hist')"
   ]
  },
  {
   "cell_type": "markdown",
   "metadata": {},
   "source": [
    "**Conclusion**\n",
    "\n",
    "- time_spent and page_views are highly correlated\n",
    "- purchase_date doesn't have any trend\n",
    "- there is no correlation between price and ratings\n",
    "- most cheapest items is beauty category\n",
    "- electroinic has highest starting price\n",
    "\n",
    "**Action Items**\n",
    "- change purchase_date into boolean (buy/no)\n",
    "- preprocess users and items feature"
   ]
  },
  {
   "cell_type": "code",
   "execution_count": 20,
   "metadata": {},
   "outputs": [],
   "source": [
    "map_user_id = {}\n",
    "map_product_id = {}\n",
    "for ix, user in enumerate(df_interactions.customer_id.unique()):\n",
    "    map_user_id[user] = ix\n",
    "\n",
    "for ix, user in enumerate(df_products.product_id.unique()):\n",
    "    map_product_id[user] = ix\n",
    "\n",
    "df_products['product_id_int'] = df_products['product_id'].map(map_product_id)\n",
    "df_interactions['customer_id_int'] = df_interactions['customer_id'].map(map_user_id)\n",
    "df_purchases['customer_id_int'] = df_purchases['customer_id'].map(map_user_id)\n",
    "df_purchases['product_id_int'] = df_purchases['product_id'].map(map_product_id)"
   ]
  },
  {
   "cell_type": "code",
   "execution_count": 21,
   "metadata": {},
   "outputs": [
    {
     "name": "stdout",
     "output_type": "stream",
     "text": [
      "20\n"
     ]
    },
    {
     "data": {
      "text/plain": [
       "0     120\n",
       "1      25\n",
       "2      90\n",
       "3      20\n",
       "4     150\n",
       "5      30\n",
       "6      80\n",
       "7      15\n",
       "8     110\n",
       "9      22\n",
       "10    378\n",
       "11     42\n",
       "12    441\n",
       "13     49\n",
       "14    324\n",
       "15     36\n",
       "16    324\n",
       "17     36\n",
       "18    297\n",
       "19     33\n",
       "20    378\n",
       "21     42\n",
       "22    108\n",
       "23     12\n",
       "24    360\n",
       "25     40\n",
       "26    279\n",
       "27     31\n",
       "28    324\n",
       "29     36\n",
       "30    252\n",
       "31     28\n",
       "32    306\n",
       "33     34\n",
       "34    261\n",
       "35     29\n",
       "36    324\n",
       "37     36\n",
       "38     99\n",
       "39     11\n",
       "dtype: object"
      ]
     },
     "execution_count": 21,
     "metadata": {},
     "output_type": "execute_result"
    }
   ],
   "source": [
    "users = df_interactions.copy()\n",
    "user_ids = set(users['customer_id_int'].tolist())\n",
    "\n",
    "# users['time_spent'] = np.digitize(users['time_spent'], np.percentile(users['time_spent'],[25,50,75]))\n",
    "# users['page_views'] = np.digitize(users['page_views'], np.percentile(users['page_views'],[25,50,75]))\n",
    "\n",
    "user_features = users[['time_spent', 'page_views']].apply(\n",
    "            lambda x: ','.join(x.map(str)), axis=1)\n",
    "user_features = user_features.str.split(',')\n",
    "user_features = user_features.apply(pd.Series).stack().reset_index(drop=True)\n",
    "\n",
    "id_user_features = users[['customer_id_int', 'page_views', 'time_spent']].apply(\n",
    "    lambda row: (row['customer_id_int'], [str(row['page_views']), str(row['time_spent'])]), axis=1\n",
    ")\n",
    "print(len(user_ids))\n",
    "user_features"
   ]
  },
  {
   "cell_type": "code",
   "execution_count": 22,
   "metadata": {},
   "outputs": [
    {
     "name": "stdout",
     "output_type": "stream",
     "text": [
      "500\n"
     ]
    },
    {
     "data": {
      "text/plain": [
       "0       Electronics\n",
       "1               500\n",
       "2               4.5\n",
       "3          Clothing\n",
       "4                50\n",
       "           ...     \n",
       "1495           1090\n",
       "1496            2.0\n",
       "1497    Electronics\n",
       "1498            720\n",
       "1499            3.4\n",
       "Length: 1500, dtype: object"
      ]
     },
     "execution_count": 22,
     "metadata": {},
     "output_type": "execute_result"
    }
   ],
   "source": [
    "items = df_products.copy()\n",
    "items['price'] = items['price'].apply(lambda x: int(x))\n",
    "items['ratings'] = items['ratings'].apply(lambda x: round(x,1))\n",
    "\n",
    "item_ids = set(items.product_id_int.tolist())\n",
    "\n",
    "item_features = items[['category', 'price', 'ratings']].apply(\n",
    "            lambda x: ','.join(x.map(str)), axis=1)\n",
    "item_features = item_features.str.split(',')\n",
    "item_features = item_features.apply(pd.Series).stack().reset_index(drop=True)\n",
    "\n",
    "id_item_features = items[['product_id_int', 'category', 'price', 'ratings']].apply(\n",
    "    lambda row: (row['product_id_int'], [str(row['category']), str(row['ratings'])]), axis=1\n",
    ")\n",
    "print(len(item_ids))\n",
    "item_features"
   ]
  },
  {
   "cell_type": "code",
   "execution_count": 23,
   "metadata": {},
   "outputs": [
    {
     "data": {
      "text/plain": [
       "[(0, 0, 1),\n",
       " (0, 4, 1),\n",
       " (0, 120, 1),\n",
       " (0, 184, 1),\n",
       " (0, 340, 1),\n",
       " (1, 1, 1),\n",
       " (1, 64, 1),\n",
       " (1, 206, 1),\n",
       " (1, 248, 1),\n",
       " (1, 315, 1),\n",
       " (1, 344, 1),\n",
       " (1, 373, 1),\n",
       " (1, 472, 1),\n",
       " (2, 2, 1),\n",
       " (2, 26, 1),\n",
       " (2, 259, 1),\n",
       " (2, 261, 1),\n",
       " (2, 304, 1),\n",
       " (2, 402, 1),\n",
       " (2, 463, 1),\n",
       " (3, 3, 1),\n",
       " (3, 232, 1),\n",
       " (3, 477, 1),\n",
       " (4, 0, 1),\n",
       " (4, 74, 1),\n",
       " (4, 131, 1),\n",
       " (4, 138, 1),\n",
       " (4, 397, 1),\n",
       " (4, 416, 1),\n",
       " (4, 450, 1),\n",
       " (5, 17, 1),\n",
       " (5, 24, 1),\n",
       " (5, 61, 1),\n",
       " (5, 253, 1),\n",
       " (6, 3, 1),\n",
       " (6, 34, 1),\n",
       " (6, 361, 1),\n",
       " (6, 364, 1),\n",
       " (6, 431, 1),\n",
       " (7, 131, 1),\n",
       " (7, 166, 1),\n",
       " (7, 343, 1),\n",
       " (7, 444, 1),\n",
       " (8, 18, 1),\n",
       " (8, 40, 1),\n",
       " (8, 51, 1),\n",
       " (8, 147, 1),\n",
       " (8, 256, 1),\n",
       " (8, 311, 1),\n",
       " (8, 463, 1),\n",
       " (8, 483, 1),\n",
       " (9, 37, 1),\n",
       " (9, 125, 1),\n",
       " (9, 196, 1),\n",
       " (9, 263, 1),\n",
       " (9, 382, 1),\n",
       " (9, 430, 1),\n",
       " (9, 458, 1),\n",
       " (10, 161, 1),\n",
       " (10, 193, 1),\n",
       " (10, 296, 1),\n",
       " (11, 67, 1),\n",
       " (11, 243, 1),\n",
       " (11, 333, 1),\n",
       " (11, 425, 1),\n",
       " (11, 453, 1),\n",
       " (11, 459, 1),\n",
       " (12, 41, 1),\n",
       " (12, 130, 1),\n",
       " (12, 484, 1),\n",
       " (13, 54, 1),\n",
       " (13, 88, 1),\n",
       " (13, 473, 1),\n",
       " (14, 45, 1),\n",
       " (14, 192, 1),\n",
       " (14, 220, 1),\n",
       " (14, 439, 1),\n",
       " (14, 490, 1),\n",
       " (15, 83, 1),\n",
       " (15, 139, 1),\n",
       " (15, 223, 1),\n",
       " (15, 235, 1),\n",
       " (15, 410, 1),\n",
       " (16, 123, 1),\n",
       " (16, 244, 1),\n",
       " (17, 1, 1),\n",
       " (17, 7, 1),\n",
       " (17, 108, 1),\n",
       " (17, 128, 1),\n",
       " (17, 223, 1),\n",
       " (17, 271, 1),\n",
       " (17, 291, 1),\n",
       " (18, 204, 1),\n",
       " (18, 346, 1),\n",
       " (18, 361, 1),\n",
       " (18, 411, 1),\n",
       " (19, 20, 1),\n",
       " (19, 142, 1),\n",
       " (19, 379, 1),\n",
       " (19, 454, 1)]"
      ]
     },
     "execution_count": 23,
     "metadata": {},
     "output_type": "execute_result"
    }
   ],
   "source": [
    "interactions = df_purchases.copy()\n",
    "interactions['is_purchased'] = interactions['purchase_date'].apply(lambda x : 1 if x is not None else None)\n",
    "interactions = interactions[['customer_id_int', 'product_id_int', 'is_purchased']].groupby(['customer_id_int', 'product_id_int']).sum().reset_index()\n",
    "interactions = pd.merge(interactions, df_products, on=['product_id_int'], how='left')\n",
    "interactions['weight'] = interactions['is_purchased']\n",
    "\n",
    "interactions = interactions[['customer_id_int', 'product_id_int', 'weight']]\n",
    "interactions = list(zip(interactions.customer_id_int, interactions.product_id_int, interactions.weight))\n",
    "interactions"
   ]
  },
  {
   "cell_type": "code",
   "execution_count": 24,
   "metadata": {},
   "outputs": [
    {
     "data": {
      "text/plain": [
       "<lightfm.data.Dataset at 0x15f7438b0>"
      ]
     },
     "execution_count": 24,
     "metadata": {},
     "output_type": "execute_result"
    }
   ],
   "source": [
    "dataset = Dataset()\n",
    "dataset.fit(\n",
    "            user_ids, \n",
    "            item_ids,\n",
    "            item_features=item_features, \n",
    "            user_features=user_features)\n",
    "dataset"
   ]
  },
  {
   "cell_type": "code",
   "execution_count": 25,
   "metadata": {},
   "outputs": [],
   "source": [
    "interactions, weight = dataset.build_interactions(interactions)"
   ]
  },
  {
   "cell_type": "code",
   "execution_count": 26,
   "metadata": {},
   "outputs": [],
   "source": [
    "item_features = dataset.build_item_features(\n",
    "    id_item_features)\n",
    "\n",
    "user_features = dataset.build_user_features(\n",
    "    id_user_features)"
   ]
  },
  {
   "cell_type": "code",
   "execution_count": 27,
   "metadata": {},
   "outputs": [
    {
     "data": {
      "text/plain": [
       "<20x500 sparse matrix of type '<class 'numpy.int32'>'\n",
       "\twith 80 stored elements in COOrdinate format>"
      ]
     },
     "execution_count": 27,
     "metadata": {},
     "output_type": "execute_result"
    }
   ],
   "source": [
    "train, test = cross_validation.random_train_test_split(interactions, test_percentage=0.2, random_state=24)\n",
    "train"
   ]
  },
  {
   "cell_type": "code",
   "execution_count": 28,
   "metadata": {},
   "outputs": [
    {
     "name": "stdout",
     "output_type": "stream",
     "text": [
      "Epoch 0\n",
      "Epoch 1\n",
      "Epoch 2\n",
      "Epoch 3\n",
      "Epoch 4\n",
      "Epoch 5\n",
      "Epoch 6\n",
      "Epoch 7\n",
      "Epoch 8\n",
      "Epoch 9\n"
     ]
    },
    {
     "data": {
      "text/plain": [
       "<lightfm.lightfm.LightFM at 0x15f740a00>"
      ]
     },
     "execution_count": 28,
     "metadata": {},
     "output_type": "execute_result"
    }
   ],
   "source": [
    "model = LightFM(\n",
    "    no_components=100,\n",
    "    learning_rate=0.05,\n",
    "    loss='warp-kos',\n",
    "    random_state=24\n",
    ")\n",
    "\n",
    "model.fit(\n",
    "    train,\n",
    "    item_features=item_features,\n",
    "    user_features=user_features,\n",
    "    epochs=10, num_threads=4, verbose=True)"
   ]
  },
  {
   "cell_type": "code",
   "execution_count": 29,
   "metadata": {},
   "outputs": [],
   "source": [
    "def calculate_score(lightfm_model, interactions_matrix,\n",
    "                        item_features, user_features): \n",
    "    score = auc_score( \n",
    "        lightfm_model, interactions_matrix,\n",
    "        item_features=item_features, \n",
    "        user_features=user_features, \n",
    "        num_threads=4).mean()\n",
    "    print(\"Mean AUC Score :\", score)\n",
    "    score_k = precision_at_k( \n",
    "        lightfm_model, interactions_matrix,\n",
    "        item_features=item_features, \n",
    "        user_features=user_features, \n",
    "        num_threads=4).mean()\n",
    "    print(\"Precision at K Score:\", score_k)\n",
    "    return score, score_k"
   ]
  },
  {
   "cell_type": "code",
   "execution_count": 30,
   "metadata": {},
   "outputs": [
    {
     "name": "stdout",
     "output_type": "stream",
     "text": [
      "Mean AUC Score : 0.9178958\n",
      "Precision at K Score: 0.1\n",
      "Mean AUC Score : 0.52082294\n",
      "Precision at K Score: 0.0\n"
     ]
    },
    {
     "data": {
      "text/plain": [
       "(0.52082294, 0.0)"
      ]
     },
     "execution_count": 30,
     "metadata": {},
     "output_type": "execute_result"
    }
   ],
   "source": [
    "calculate_score(model, train, item_features, user_features)\n",
    "calculate_score(model, test, item_features, user_features)"
   ]
  },
  {
   "cell_type": "code",
   "execution_count": 31,
   "metadata": {},
   "outputs": [
    {
     "data": {
      "text/plain": [
       "array([-0.7783641], dtype=float32)"
      ]
     },
     "execution_count": 31,
     "metadata": {},
     "output_type": "execute_result"
    }
   ],
   "source": [
    "model.predict([1], [101], item_features, user_features)"
   ]
  },
  {
   "cell_type": "markdown",
   "metadata": {},
   "source": [
    "### Hyperparameter tuning"
   ]
  },
  {
   "cell_type": "code",
   "execution_count": 32,
   "metadata": {},
   "outputs": [],
   "source": [
    "def sample_hyperparameters():\n",
    "    \"\"\"\n",
    "    Yield possible hyperparameter choices.\n",
    "    \"\"\"\n",
    "\n",
    "    while True:\n",
    "        yield {\n",
    "            \"no_components\": np.random.randint(16, 64),\n",
    "            \"learning_schedule\": np.random.choice([\"adagrad\", \"adadelta\"]),\n",
    "            \"loss\": np.random.choice([\"bpr\", \"warp\", \"warp-kos\"]),\n",
    "            \"learning_rate\": np.random.exponential(0.05),\n",
    "            \"item_alpha\": np.random.exponential(1e-8),\n",
    "            \"user_alpha\": np.random.exponential(1e-8),\n",
    "            \"max_sampled\": np.random.randint(5, 15),\n",
    "            \"num_epochs\": np.random.randint(5, 50),\n",
    "        }"
   ]
  },
  {
   "cell_type": "code",
   "execution_count": 33,
   "metadata": {},
   "outputs": [
    {
     "name": "stdout",
     "output_type": "stream",
     "text": [
      "Best score 0.5373913645744324 at {'no_components': 57, 'learning_schedule': 'adagrad', 'loss': 'warp', 'learning_rate': 0.03199534267277087, 'item_alpha': 1.5471772734012532e-08, 'user_alpha': 7.168567987576306e-10, 'max_sampled': 13, 'num_epochs': 13}\n"
     ]
    }
   ],
   "source": [
    "def random_search(train, test, num_samples=10, num_threads=4, item_features=None, user_features=None):\n",
    "    for hyperparams in itertools.islice(sample_hyperparameters(), num_samples):\n",
    "        num_epochs = hyperparams.pop(\"num_epochs\")\n",
    "\n",
    "        model = LightFM(**hyperparams)\n",
    "        model.fit(train, epochs=num_epochs, num_threads=num_threads, item_features=item_features, user_features=user_features)\n",
    "\n",
    "        score = auc_score(model, test, train_interactions=train, num_threads=num_threads, item_features=item_features, user_features=user_features).mean()\n",
    "\n",
    "        hyperparams[\"num_epochs\"] = num_epochs\n",
    "\n",
    "        yield (score, hyperparams, model)\n",
    "\n",
    "\n",
    "(score, hyperparams, model) = max(random_search(train, test, num_threads=2, item_features=item_features, user_features=user_features), key=lambda x: x[0])\n",
    "\n",
    "print(\"Best score {} at {}\".format(score, hyperparams))"
   ]
  },
  {
   "cell_type": "code",
   "execution_count": 34,
   "metadata": {},
   "outputs": [
    {
     "data": {
      "text/plain": [
       "array([-0.5771019], dtype=float32)"
      ]
     },
     "execution_count": 34,
     "metadata": {},
     "output_type": "execute_result"
    }
   ],
   "source": [
    "model.predict([1], [101], item_features, user_features)"
   ]
  },
  {
   "cell_type": "markdown",
   "metadata": {},
   "source": [
    "### Save best model"
   ]
  },
  {
   "cell_type": "code",
   "execution_count": 35,
   "metadata": {},
   "outputs": [],
   "source": [
    "import pickle\n",
    "with open('lightfm.pickle', 'wb') as f:\n",
    "    pickle.dump(model, f)"
   ]
  },
  {
   "cell_type": "markdown",
   "metadata": {},
   "source": [
    "### Create simple prediction"
   ]
  },
  {
   "cell_type": "code",
   "execution_count": 36,
   "metadata": {},
   "outputs": [
    {
     "name": "stderr",
     "output_type": "stream",
     "text": [
      "/var/folders/n4/4m0c1r8d1jldkcvf4xtdbvqc0000gn/T/ipykernel_1031/1120856682.py:7: SettingWithCopyWarning: \n",
      "A value is trying to be set on a copy of a slice from a DataFrame.\n",
      "Try using .loc[row_indexer,col_indexer] = value instead\n",
      "\n",
      "See the caveats in the documentation: https://pandas.pydata.org/pandas-docs/stable/user_guide/indexing.html#returning-a-view-versus-a-copy\n",
      "  df_recommend['score'] = scores\n"
     ]
    },
    {
     "data": {
      "text/html": [
       "<div>\n",
       "<style scoped>\n",
       "    .dataframe tbody tr th:only-of-type {\n",
       "        vertical-align: middle;\n",
       "    }\n",
       "\n",
       "    .dataframe tbody tr th {\n",
       "        vertical-align: top;\n",
       "    }\n",
       "\n",
       "    .dataframe thead th {\n",
       "        text-align: right;\n",
       "    }\n",
       "</style>\n",
       "<table border=\"1\" class=\"dataframe\">\n",
       "  <thead>\n",
       "    <tr style=\"text-align: right;\">\n",
       "      <th></th>\n",
       "      <th>product_id</th>\n",
       "      <th>category</th>\n",
       "      <th>price</th>\n",
       "      <th>ratings</th>\n",
       "      <th>product_id_int</th>\n",
       "    </tr>\n",
       "  </thead>\n",
       "  <tbody>\n",
       "    <tr>\n",
       "      <th>0</th>\n",
       "      <td>101</td>\n",
       "      <td>Electronics</td>\n",
       "      <td>500</td>\n",
       "      <td>4.5</td>\n",
       "      <td>0</td>\n",
       "    </tr>\n",
       "    <tr>\n",
       "      <th>4</th>\n",
       "      <td>105</td>\n",
       "      <td>Electronics</td>\n",
       "      <td>800</td>\n",
       "      <td>4.8</td>\n",
       "      <td>4</td>\n",
       "    </tr>\n",
       "    <tr>\n",
       "      <th>120</th>\n",
       "      <td>221</td>\n",
       "      <td>Home &amp; Kitchen</td>\n",
       "      <td>500</td>\n",
       "      <td>3.3</td>\n",
       "      <td>120</td>\n",
       "    </tr>\n",
       "    <tr>\n",
       "      <th>184</th>\n",
       "      <td>285</td>\n",
       "      <td>Beauty</td>\n",
       "      <td>1110</td>\n",
       "      <td>2.3</td>\n",
       "      <td>184</td>\n",
       "    </tr>\n",
       "    <tr>\n",
       "      <th>340</th>\n",
       "      <td>441</td>\n",
       "      <td>Home &amp; Kitchen</td>\n",
       "      <td>900</td>\n",
       "      <td>2.8</td>\n",
       "      <td>340</td>\n",
       "    </tr>\n",
       "  </tbody>\n",
       "</table>\n",
       "</div>"
      ],
      "text/plain": [
       "     product_id        category  price  ratings  product_id_int\n",
       "0           101     Electronics    500      4.5               0\n",
       "4           105     Electronics    800      4.8               4\n",
       "120         221  Home & Kitchen    500      3.3             120\n",
       "184         285          Beauty   1110      2.3             184\n",
       "340         441  Home & Kitchen    900      2.8             340"
      ]
     },
     "metadata": {},
     "output_type": "display_data"
    },
    {
     "data": {
      "text/html": [
       "<div>\n",
       "<style scoped>\n",
       "    .dataframe tbody tr th:only-of-type {\n",
       "        vertical-align: middle;\n",
       "    }\n",
       "\n",
       "    .dataframe tbody tr th {\n",
       "        vertical-align: top;\n",
       "    }\n",
       "\n",
       "    .dataframe thead th {\n",
       "        text-align: right;\n",
       "    }\n",
       "</style>\n",
       "<table border=\"1\" class=\"dataframe\">\n",
       "  <thead>\n",
       "    <tr style=\"text-align: right;\">\n",
       "      <th></th>\n",
       "      <th>product_id</th>\n",
       "      <th>category</th>\n",
       "      <th>price</th>\n",
       "      <th>ratings</th>\n",
       "      <th>product_id_int</th>\n",
       "      <th>score</th>\n",
       "    </tr>\n",
       "  </thead>\n",
       "  <tbody>\n",
       "    <tr>\n",
       "      <th>193</th>\n",
       "      <td>294</td>\n",
       "      <td>Electronics</td>\n",
       "      <td>260</td>\n",
       "      <td>4.2</td>\n",
       "      <td>193</td>\n",
       "      <td>-0.254274</td>\n",
       "    </tr>\n",
       "    <tr>\n",
       "      <th>131</th>\n",
       "      <td>232</td>\n",
       "      <td>Electronics</td>\n",
       "      <td>1160</td>\n",
       "      <td>4.2</td>\n",
       "      <td>131</td>\n",
       "      <td>-0.258533</td>\n",
       "    </tr>\n",
       "    <tr>\n",
       "      <th>483</th>\n",
       "      <td>584</td>\n",
       "      <td>Electronics</td>\n",
       "      <td>610</td>\n",
       "      <td>2.0</td>\n",
       "      <td>483</td>\n",
       "      <td>-0.261715</td>\n",
       "    </tr>\n",
       "    <tr>\n",
       "      <th>477</th>\n",
       "      <td>578</td>\n",
       "      <td>Electronics</td>\n",
       "      <td>280</td>\n",
       "      <td>3.8</td>\n",
       "      <td>477</td>\n",
       "      <td>-0.272206</td>\n",
       "    </tr>\n",
       "    <tr>\n",
       "      <th>83</th>\n",
       "      <td>184</td>\n",
       "      <td>Electronics</td>\n",
       "      <td>190</td>\n",
       "      <td>3.1</td>\n",
       "      <td>83</td>\n",
       "      <td>-0.281206</td>\n",
       "    </tr>\n",
       "    <tr>\n",
       "      <th>379</th>\n",
       "      <td>480</td>\n",
       "      <td>Electronics</td>\n",
       "      <td>1010</td>\n",
       "      <td>3.1</td>\n",
       "      <td>379</td>\n",
       "      <td>-0.288330</td>\n",
       "    </tr>\n",
       "    <tr>\n",
       "      <th>125</th>\n",
       "      <td>226</td>\n",
       "      <td>Electronics</td>\n",
       "      <td>1220</td>\n",
       "      <td>2.8</td>\n",
       "      <td>125</td>\n",
       "      <td>-0.333105</td>\n",
       "    </tr>\n",
       "    <tr>\n",
       "      <th>248</th>\n",
       "      <td>349</td>\n",
       "      <td>Electronics</td>\n",
       "      <td>440</td>\n",
       "      <td>2.5</td>\n",
       "      <td>248</td>\n",
       "      <td>-0.340216</td>\n",
       "    </tr>\n",
       "    <tr>\n",
       "      <th>1</th>\n",
       "      <td>102</td>\n",
       "      <td>Clothing</td>\n",
       "      <td>50</td>\n",
       "      <td>3.8</td>\n",
       "      <td>1</td>\n",
       "      <td>-0.342420</td>\n",
       "    </tr>\n",
       "    <tr>\n",
       "      <th>40</th>\n",
       "      <td>141</td>\n",
       "      <td>Electronics</td>\n",
       "      <td>1250</td>\n",
       "      <td>4.7</td>\n",
       "      <td>40</td>\n",
       "      <td>-0.342539</td>\n",
       "    </tr>\n",
       "  </tbody>\n",
       "</table>\n",
       "</div>"
      ],
      "text/plain": [
       "     product_id     category  price  ratings  product_id_int     score\n",
       "193         294  Electronics    260      4.2             193 -0.254274\n",
       "131         232  Electronics   1160      4.2             131 -0.258533\n",
       "483         584  Electronics    610      2.0             483 -0.261715\n",
       "477         578  Electronics    280      3.8             477 -0.272206\n",
       "83          184  Electronics    190      3.1              83 -0.281206\n",
       "379         480  Electronics   1010      3.1             379 -0.288330\n",
       "125         226  Electronics   1220      2.8             125 -0.333105\n",
       "248         349  Electronics    440      2.5             248 -0.340216\n",
       "1           102     Clothing     50      3.8               1 -0.342420\n",
       "40          141  Electronics   1250      4.7              40 -0.342539"
      ]
     },
     "metadata": {},
     "output_type": "display_data"
    }
   ],
   "source": [
    "def make_predictions_rank(user_id):\n",
    "    purchased_ids = set(df_purchases.loc[df_purchases.customer_id == user_id].product_id_int.tolist())\n",
    "    item_ids = list(set(df_products.loc[~df_products.product_id_int.isin(purchased_ids)].product_id_int.tolist()))\n",
    "    df_last_buy = df_products.loc[df_products.product_id_int.isin(purchased_ids)]\n",
    "    scores = model.predict(user_id, item_ids, item_features, user_features)\n",
    "    df_recommend = df_products.loc[df_products.product_id_int.isin(item_ids)]\n",
    "    df_recommend['score'] = scores\n",
    "    df_recommend = df_recommend.sort_values('score', ascending=False).iloc[:10]\n",
    "    return df_last_buy, df_recommend\n",
    "\n",
    "last_buy, recommend = make_predictions_rank(1)\n",
    "display(last_buy)\n",
    "display(recommend)"
   ]
  }
 ],
 "metadata": {
  "kernelspec": {
   "display_name": "venv",
   "language": "python",
   "name": "python3"
  },
  "language_info": {
   "codemirror_mode": {
    "name": "ipython",
    "version": 3
   },
   "file_extension": ".py",
   "mimetype": "text/x-python",
   "name": "python",
   "nbconvert_exporter": "python",
   "pygments_lexer": "ipython3",
   "version": "3.10.12"
  }
 },
 "nbformat": 4,
 "nbformat_minor": 2
}
